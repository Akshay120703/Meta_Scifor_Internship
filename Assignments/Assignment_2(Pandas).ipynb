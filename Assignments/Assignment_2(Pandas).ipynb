{
 "cells": [
  {
   "cell_type": "code",
   "execution_count": 1,
   "id": "20b4b7ba",
   "metadata": {},
   "outputs": [],
   "source": [
    "import pandas as pd\n",
    "import numpy as np"
   ]
  },
  {
   "cell_type": "code",
   "execution_count": 2,
   "id": "510a49c5",
   "metadata": {},
   "outputs": [
    {
     "name": "stdout",
     "output_type": "stream",
     "text": [
      "Series([], dtype: object)\n"
     ]
    }
   ],
   "source": [
    "# Creating an empty Series\n",
    "ser = pd.Series()\n",
    "print(ser)"
   ]
  },
  {
   "cell_type": "code",
   "execution_count": 3,
   "id": "21af33e3",
   "metadata": {},
   "outputs": [
    {
     "name": "stdout",
     "output_type": "stream",
     "text": [
      "0    10\n",
      "1    20\n",
      "2    30\n",
      "3    40\n",
      "4    50\n",
      "dtype: int64\n"
     ]
    }
   ],
   "source": [
    "# Creating a Series from a list of integers\n",
    "ser = pd.Series([10, 20, 30, 40, 50])\n",
    "print(ser)"
   ]
  },
  {
   "cell_type": "code",
   "execution_count": 4,
   "id": "ccebf475",
   "metadata": {},
   "outputs": [
    {
     "name": "stdout",
     "output_type": "stream",
     "text": [
      "0       25\n",
      "1    14.89\n",
      "2    Alice\n",
      "dtype: object\n"
     ]
    }
   ],
   "source": [
    "# Creating a Series from a list with different data types\n",
    "ser = pd.Series([25, 14.89, 'Alice'])\n",
    "print(ser)"
   ]
  },
  {
   "cell_type": "code",
   "execution_count": 5,
   "id": "041e28aa",
   "metadata": {},
   "outputs": [
    {
     "name": "stdout",
     "output_type": "stream",
     "text": [
      "    Name  Age Gender\n",
      "0   John   28      M\n",
      "1   Anna   22      F\n",
      "2  Peter   29      M\n"
     ]
    }
   ],
   "source": [
    "# Creating a DataFrame from a dictionary\n",
    "data_dict = {'Name': ['John', 'Anna', 'Peter'], 'Age': [28, 22, 29], 'Gender': ['M', 'F', 'M']}\n",
    "df = pd.DataFrame(data_dict)\n",
    "print(df)"
   ]
  },
  {
   "cell_type": "code",
   "execution_count": 6,
   "id": "abaa34e2",
   "metadata": {},
   "outputs": [
    {
     "name": "stdout",
     "output_type": "stream",
     "text": [
      "    Name  Age Gender Department\n",
      "0   John   28      M         HR\n",
      "1   Anna   22      F         IT\n",
      "2  Peter   29      M    Finance\n"
     ]
    }
   ],
   "source": [
    "# Adding a new column to the DataFrame\n",
    "df['Department'] = [\"HR\", \"IT\", \"Finance\"]\n",
    "print(df)"
   ]
  },
  {
   "cell_type": "code",
   "execution_count": 7,
   "id": "d7150b0e",
   "metadata": {},
   "outputs": [
    {
     "name": "stdout",
     "output_type": "stream",
     "text": [
      "{'Name': ['John', 'Anna', nan], 'Age': [28, 22, 29], 'Gender': ['M', nan, 'F']}\n"
     ]
    }
   ],
   "source": [
    "# Creating a dictionary with NaN values\n",
    "data_dict = {'Name': ['John', 'Anna', np.nan], 'Age': [28, 22, 29], 'Gender': ['M', np.nan, 'F']}\n",
    "print(data_dict)"
   ]
  },
  {
   "cell_type": "code",
   "execution_count": 8,
   "id": "99c635ad",
   "metadata": {},
   "outputs": [
    {
     "name": "stdout",
     "output_type": "stream",
     "text": [
      "   Name  Age Gender\n",
      "0  John   28      M\n",
      "1  Anna   22    NaN\n",
      "2   NaN   29      F\n"
     ]
    }
   ],
   "source": [
    "# Creating a DataFrame from the dictionary\n",
    "df = pd.DataFrame(data_dict)\n",
    "print(df)"
   ]
  },
  {
   "cell_type": "code",
   "execution_count": 9,
   "id": "ecce8b96",
   "metadata": {},
   "outputs": [
    {
     "name": "stdout",
     "output_type": "stream",
     "text": [
      "Dropping columns with NaN values\n",
      "   Age\n",
      "0   28\n",
      "1   22\n",
      "2   29\n"
     ]
    }
   ],
   "source": [
    "# Dropping columns with NaN values\n",
    "print(\"Dropping columns with NaN values\")\n",
    "print(df.dropna(axis=1))"
   ]
  },
  {
   "cell_type": "code",
   "execution_count": 10,
   "id": "6f12a4fd",
   "metadata": {},
   "outputs": [
    {
     "name": "stdout",
     "output_type": "stream",
     "text": [
      "   Name  Age Gender\n",
      "0  John   28      M\n",
      "1  Anna   22    NaN\n",
      "2   NaN   29      F\n"
     ]
    }
   ],
   "source": [
    "# Displaying the DataFrame\n",
    "print(df)"
   ]
  },
  {
   "cell_type": "code",
   "execution_count": 11,
   "id": "aaece9fe",
   "metadata": {},
   "outputs": [
    {
     "name": "stdout",
     "output_type": "stream",
     "text": [
      "Dropping rows with NaN values\n",
      "   Name  Age Gender\n",
      "0  John   28      M\n",
      "   Name  Age Gender\n",
      "0  John   28      M\n",
      "1  Anna   22    NaN\n",
      "2   NaN   29      F\n"
     ]
    }
   ],
   "source": [
    "# Dropping rows with NaN values\n",
    "print(\"Dropping rows with NaN values\")\n",
    "print(df.dropna(axis=0))\n",
    "\n",
    "# Displaying the DataFrame\n",
    "print(df)"
   ]
  },
  {
   "cell_type": "code",
   "execution_count": 12,
   "id": "3df8d3bf",
   "metadata": {},
   "outputs": [
    {
     "name": "stdout",
     "output_type": "stream",
     "text": [
      "Filling NaN values with 'Unknown'\n",
      "      Name  Age   Gender\n",
      "0     John   28        M\n",
      "1     Anna   22  Unknown\n",
      "2  Unknown   29        F\n"
     ]
    }
   ],
   "source": [
    "# Filling NaN values with a specific value\n",
    "print(\"Filling NaN values with 'Unknown'\")\n",
    "print(df.fillna('Unknown'))"
   ]
  },
  {
   "cell_type": "code",
   "execution_count": 13,
   "id": "04eb9a9f",
   "metadata": {},
   "outputs": [
    {
     "name": "stdout",
     "output_type": "stream",
     "text": [
      "{'Product': ['Laptop', 'Mouse', nan], 'Price': [800, 25, 45], 'Stock': [20, nan, 100]}\n",
      "  Product  Price  Stock\n",
      "0  Laptop    800   20.0\n",
      "1   Mouse     25    NaN\n",
      "2     NaN     45  100.0\n"
     ]
    }
   ],
   "source": [
    "# Creating another dictionary with NaN values\n",
    "data_dict = {'Product': ['Laptop', 'Mouse', np.nan], 'Price': [800, 25, 45], 'Stock': [20, np.nan, 100]}\n",
    "print(data_dict)\n",
    "\n",
    "# Creating a DataFrame from the dictionary\n",
    "df = pd.DataFrame(data_dict)\n",
    "print(df)"
   ]
  },
  {
   "cell_type": "code",
   "execution_count": 14,
   "id": "4629c722",
   "metadata": {},
   "outputs": [
    {
     "name": "stdout",
     "output_type": "stream",
     "text": [
      "Filling NaN values with 0\n",
      "  Product  Price  Stock\n",
      "0  Laptop    800   20.0\n",
      "1   Mouse     25    0.0\n",
      "2       0     45  100.0\n",
      "  Product  Price  Stock\n",
      "0  Laptop    800   20.0\n",
      "1   Mouse     25    NaN\n",
      "2     NaN     45  100.0\n"
     ]
    }
   ],
   "source": [
    "# Filling NaN values with a specific value\n",
    "print(\"Filling NaN values with 0\")\n",
    "print(df.fillna(0))\n",
    "\n",
    "# Displaying the DataFrame\n",
    "print(df)"
   ]
  },
  {
   "cell_type": "code",
   "execution_count": 15,
   "id": "00d8cef1",
   "metadata": {},
   "outputs": [
    {
     "name": "stdout",
     "output_type": "stream",
     "text": [
      "Filling NaN values with the mean of the column\n",
      "  Product  Price  Stock\n",
      "0  Laptop    800   20.0\n",
      "1   Mouse     25   60.0\n",
      "2    60.0     45  100.0\n"
     ]
    }
   ],
   "source": [
    "# Filling NaN values with the mean of the column\n",
    "print(\"Filling NaN values with the mean of the column\")\n",
    "df.fillna(value=df['Stock'].mean(), inplace=True)\n",
    "print(df)"
   ]
  },
  {
   "cell_type": "code",
   "execution_count": 16,
   "id": "55a2d684",
   "metadata": {},
   "outputs": [
    {
     "name": "stdout",
     "output_type": "stream",
     "text": [
      "  Company Person  Sales\n",
      "0   Apple   John    200\n",
      "1   Apple   Mike    150\n",
      "2  Google   Sara    300\n",
      "3  Google   Anna    350\n",
      "4  Amazon    Bob    500\n",
      "5  Amazon  Linda    450\n",
      "         Sales\n",
      "Company       \n",
      "Amazon   475.0\n",
      "Apple    175.0\n",
      "Google   325.0\n",
      "Company\n",
      "Amazon    475.0\n",
      "Apple     175.0\n",
      "Google    325.0\n",
      "Name: Sales, dtype: float64\n",
      "Company\n",
      "Amazon    950\n",
      "Apple     350\n",
      "Google    650\n",
      "Name: Sales, dtype: int64\n"
     ]
    }
   ],
   "source": [
    "# Grouping by a column and calculating the mean\n",
    "data = {'Company': ['Apple', 'Apple', 'Google', 'Google', 'Amazon', 'Amazon'],\n",
    "        'Person': ['John', 'Mike', 'Sara', 'Anna', 'Bob', 'Linda'],\n",
    "        'Sales': [200, 150, 300, 350, 500, 450]}\n",
    "df = pd.DataFrame(data)\n",
    "print(df)\n",
    "\n",
    "by_company = df.groupby('Company')\n",
    "print(by_company.mean(numeric_only=True))\n",
    "print(by_company['Sales'].mean())\n",
    "\n",
    "print(by_company['Sales'].sum())"
   ]
  },
  {
   "cell_type": "code",
   "execution_count": 17,
   "id": "85a35246",
   "metadata": {},
   "outputs": [
    {
     "name": "stdout",
     "output_type": "stream",
     "text": [
      "Row-wise concatenation\n",
      "           Math  Science\n",
      "Tom          78       72\n",
      "Jerry        85       80\n",
      "Mickey       92       95\n",
      "Donald       88       89\n",
      "Bart         80       75\n",
      "Lisa         70       85\n",
      "Homer        88       89\n",
      "Marge        92       94\n",
      "Spongebob    68       70\n",
      "Patrick      75       78\n",
      "Squidward    80       82\n",
      "Sandy        77       85\n"
     ]
    }
   ],
   "source": [
    "# Concatenating DataFrames row-wise\n",
    "class_a = pd.DataFrame({'Math': [78, 85, 92, 88], 'Science': [72, 80, 95, 89]}, \n",
    "                       index=['Tom', 'Jerry', 'Mickey', 'Donald'])\n",
    "class_b = pd.DataFrame({'Math': [80, 70, 88, 92], 'Science': [75, 85, 89, 94]}, \n",
    "                       index=['Bart', 'Lisa', 'Homer', 'Marge'])\n",
    "class_c = pd.DataFrame({'Math': [68, 75, 80, 77], 'Science': [70, 78, 82, 85]}, \n",
    "                       index=['Spongebob', 'Patrick', 'Squidward', 'Sandy'])\n",
    "\n",
    "print(\"Row-wise concatenation\")\n",
    "student_marks = pd.concat([class_a, class_b, class_c], axis=0)\n",
    "print(student_marks)"
   ]
  },
  {
   "cell_type": "code",
   "execution_count": 18,
   "id": "18ffe912",
   "metadata": {},
   "outputs": [
    {
     "name": "stdout",
     "output_type": "stream",
     "text": [
      "Column-wise concatenation\n",
      "           Math  Science  Math  Science  Math  Science\n",
      "Tom        78.0     72.0   NaN      NaN   NaN      NaN\n",
      "Jerry      85.0     80.0   NaN      NaN   NaN      NaN\n",
      "Mickey     92.0     95.0   NaN      NaN   NaN      NaN\n",
      "Donald     88.0     89.0   NaN      NaN   NaN      NaN\n",
      "Bart        NaN      NaN  80.0     75.0   NaN      NaN\n",
      "Lisa        NaN      NaN  70.0     85.0   NaN      NaN\n",
      "Homer       NaN      NaN  88.0     89.0   NaN      NaN\n",
      "Marge       NaN      NaN  92.0     94.0   NaN      NaN\n",
      "Spongebob   NaN      NaN   NaN      NaN  68.0     70.0\n",
      "Patrick     NaN      NaN   NaN      NaN  75.0     78.0\n",
      "Squidward   NaN      NaN   NaN      NaN  80.0     82.0\n",
      "Sandy       NaN      NaN   NaN      NaN  77.0     85.0\n"
     ]
    }
   ],
   "source": [
    "# Concatenating DataFrames column-wise\n",
    "df = pd.concat([class_a, class_b, class_c], axis=1)\n",
    "print(\"Column-wise concatenation\")\n",
    "print(df)"
   ]
  },
  {
   "cell_type": "code",
   "execution_count": 19,
   "id": "6b3d61a6",
   "metadata": {},
   "outputs": [
    {
     "name": "stdout",
     "output_type": "stream",
     "text": [
      "           Math  Science  Math  Science  Math  Science\n",
      "Tom        78.0     72.0   0.0      0.0   0.0      0.0\n",
      "Jerry      85.0     80.0   0.0      0.0   0.0      0.0\n",
      "Mickey     92.0     95.0   0.0      0.0   0.0      0.0\n",
      "Donald     88.0     89.0   0.0      0.0   0.0      0.0\n",
      "Bart        0.0      0.0  80.0     75.0   0.0      0.0\n",
      "Lisa        0.0      0.0  70.0     85.0   0.0      0.0\n",
      "Homer       0.0      0.0  88.0     89.0   0.0      0.0\n",
      "Marge       0.0      0.0  92.0     94.0   0.0      0.0\n",
      "Spongebob   0.0      0.0   0.0      0.0  68.0     70.0\n",
      "Patrick     0.0      0.0   0.0      0.0  75.0     78.0\n",
      "Squidward   0.0      0.0   0.0      0.0  80.0     82.0\n",
      "Sandy       0.0      0.0   0.0      0.0  77.0     85.0\n"
     ]
    }
   ],
   "source": [
    "# Filling NaN values with 0\n",
    "df.fillna(0, inplace=True)\n",
    "print(df)"
   ]
  },
  {
   "cell_type": "code",
   "execution_count": 20,
   "id": "bfa76e9d",
   "metadata": {},
   "outputs": [
    {
     "name": "stdout",
     "output_type": "stream",
     "text": [
      "Players\n",
      "   ID  Name\n",
      "0   7   Leo\n",
      "1  14   Sam\n",
      "2  21  Alex\n",
      "3  28  Nina\n",
      "Details\n",
      "   ID  Age Country\n",
      "0   7   23   Spain\n",
      "1  14   27  Brazil\n",
      "2  21   21     USA\n",
      "3  28   25   Italy\n",
      "Merging based on IDs\n",
      "   ID  Name  Age Country\n",
      "0   7   Leo   23   Spain\n",
      "1  14   Sam   27  Brazil\n",
      "2  21  Alex   21     USA\n",
      "3  28  Nina   25   Italy\n"
     ]
    }
   ],
   "source": [
    "# Merging DataFrames on a column\n",
    "player_id_name = pd.DataFrame({'ID': [7, 14, 21, 28], 'Name': ['Leo', 'Sam', 'Alex', 'Nina']})\n",
    "print(\"Players\")\n",
    "print(player_id_name)\n",
    "\n",
    "player_details = pd.DataFrame({'ID': [7, 14, 21, 28], 'Age': [23, 27, 21, 25], 'Country': ['Spain', 'Brazil', 'USA', 'Italy']})\n",
    "print(\"Details\")\n",
    "print(player_details)\n",
    "\n",
    "print(\"Merging based on IDs\")\n",
    "merged_df = pd.merge(player_id_name, player_details, on=\"ID\")\n",
    "print(merged_df)"
   ]
  },
  {
   "cell_type": "code",
   "execution_count": 21,
   "id": "71fe7eed",
   "metadata": {},
   "outputs": [
    {
     "name": "stdout",
     "output_type": "stream",
     "text": [
      "    X   Y\n",
      "A  X0  Y0\n",
      "B  X1  Y1\n",
      "C  X2  Y2\n",
      "    Z   W\n",
      "A  Z0  W0\n",
      "C  Z2  W2\n",
      "D  Z3  W3\n",
      "Inner join\n",
      "    X   Y    Z    W\n",
      "A  X0  Y0   Z0   W0\n",
      "B  X1  Y1  NaN  NaN\n",
      "C  X2  Y2   Z2   W2\n",
      "Outer join\n",
      "     X    Y    Z    W\n",
      "A   X0   Y0   Z0   W0\n",
      "B   X1   Y1  NaN  NaN\n",
      "C   X2   Y2   Z2   W2\n",
      "D  NaN  NaN   Z3   W3\n"
     ]
    }
   ],
   "source": [
    "# Joining DataFrames on their index\n",
    "left = pd.DataFrame({'X': ['X0', 'X1', 'X2'], 'Y': ['Y0', 'Y1', 'Y2']}, index=['A', 'B', 'C'])\n",
    "right = pd.DataFrame({'Z': ['Z0', 'Z2', 'Z3'], 'W': ['W0', 'W2', 'W3']}, index=['A', 'C', 'D'])\n",
    "print(left)\n",
    "print(right)\n",
    "\n",
    "print(\"Inner join\")\n",
    "print(left.join(right))\n",
    "\n",
    "print(\"Outer join\")\n",
    "print(left.join(right, how='outer'))"
   ]
  }
 ],
 "metadata": {
  "kernelspec": {
   "display_name": "Python 3 (ipykernel)",
   "language": "python",
   "name": "python3"
  },
  "language_info": {
   "codemirror_mode": {
    "name": "ipython",
    "version": 3
   },
   "file_extension": ".py",
   "mimetype": "text/x-python",
   "name": "python",
   "nbconvert_exporter": "python",
   "pygments_lexer": "ipython3",
   "version": "3.11.5"
  }
 },
 "nbformat": 4,
 "nbformat_minor": 5
}
