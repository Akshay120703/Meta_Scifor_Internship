{
 "cells": [
  {
   "cell_type": "markdown",
   "id": "1b2b2b02",
   "metadata": {},
   "source": [
    "## AI-ML Test 1.0 (Python)"
   ]
  },
  {
   "cell_type": "markdown",
   "id": "162e1196",
   "metadata": {},
   "source": [
    "Name:- Akshay Pophali\n",
    "\n",
    "Roll No:- MST02-0054"
   ]
  },
  {
   "cell_type": "markdown",
   "id": "646da062",
   "metadata": {},
   "source": [
    "## Question Paper"
   ]
  },
  {
   "cell_type": "code",
   "execution_count": null,
   "id": "8019c971-b3c7-4de7-80b8-5f6429d76376",
   "metadata": {},
   "outputs": [],
   "source": [
    "# Jupyter Notebook for Python Basics Practice\n",
    "\n",
    "## Multiple-Choice Questions (MCQs)\n",
    "\n",
    "### Question 1\n",
    "# What is the output of the following code?\n",
    "# print(type(5.0))\n",
    "# a) int\n",
    "# b) float\n",
    "# c) str\n",
    "# d) list\n",
    "\n",
    "### Question 2\n",
    "# What is the correct syntax to output \"Hello World\" in Python?\n",
    "# a) echo \"Hello World\"\n",
    "# b) print(\"Hello World\")\n",
    "# c) printf(\"Hello World\")\n",
    "# d) System.out.println(\"Hello World\")\n",
    "\n",
    "### Question 3\n",
    "# Which of the following is a correct variable declaration in Python?\n",
    "# a) var x = 10\n",
    "# b) int x = 10\n",
    "# c) x = 10\n",
    "# d) declare x = 10\n",
    "\n",
    "### Question 4\n",
    "# What is the output of the following code?\n",
    "# print(2 ** 3)\n",
    "# a) 6\n",
    "# b) 8\n",
    "# c) 9\n",
    "# d) 12\n",
    "\n",
    "### Question 5\n",
    "# Which of the following is used to define a block of code in Python?\n",
    "# a) Curly braces\n",
    "# b) Parentheses\n",
    "# c) Indentation\n",
    "# d) Quotation marks\n",
    "\n",
    "### Question 6\n",
    "# How do you start a comment in Python?\n",
    "# a) //\n",
    "# b) /*\n",
    "# c) <!--\n",
    "# d) #\n",
    "\n",
    "### Question 7\n",
    "# What is the output of the following code?\n",
    "# print(\"Hello\" + \" \" + \"World\")\n",
    "# a) Hello World\n",
    "# b) HelloWorld\n",
    "# c) Hello+World\n",
    "# d) Error\n",
    "\n",
    "### Question 8\n",
    "# Which of the following is the correct way to create a list in Python?\n",
    "# a) list = [1, 2, 3]\n",
    "# b) list = (1, 2, 3)\n",
    "# c) list = {1, 2, 3}\n",
    "# d) list = 1, 2, 3\n",
    "\n",
    "### Question 9\n",
    "# What is the output of the following code?\n",
    "# a = [1, 2, 3]\n",
    "# print(len(a))\n",
    "# a) 2\n",
    "# b) 3\n",
    "# c) 4\n",
    "# d) Error\n",
    "\n",
    "### Question 10\n",
    "# Which of the following statements is true?\n",
    "# a) A tuple is mutable\n",
    "# b) A list is immutable\n",
    "# c) A tuple is immutable\n",
    "# d) A list is immutable and a tuple is mutable\n",
    "\n",
    "### Question 11\n",
    "# What will be the output of the following code?\n",
    "# x = 10\n",
    "# if x > 5:\n",
    "#     print(\"Greater\")\n",
    "# else:\n",
    "#     print(\"Smaller\")\n",
    "# a) Greater\n",
    "# b) Smaller\n",
    "# c) Error\n",
    "# d) None of the above\n",
    "\n",
    "### Question 12\n",
    "# How do you create a dictionary in Python?\n",
    "# a) dict = [1, 2, 3]\n",
    "# b) dict = {1, 2, 3}\n",
    "# c) dict = {\"one\": 1, \"two\": 2, \"three\": 3}\n",
    "# d) dict = (1, 2, 3)\n",
    "\n",
    "### Question 13\n",
    "# What is the output of the following code?\n",
    "# x = [1, 2, 3, 4]\n",
    "# print(x[1:3])\n",
    "# a) [1, 2]\n",
    "# b) [2, 3]\n",
    "# c) [3, 4]\n",
    "# d) [2, 3, 4]\n",
    "\n",
    "### Question 14\n",
    "# Which of the following methods can be used to add an element to a list?\n",
    "# a) append()\n",
    "# b) add()\n",
    "# c) insert()\n",
    "# d) extend()\n",
    "\n",
    "### Question 15\n",
    "# What is the correct way to handle exceptions in Python?\n",
    "# a) try-except\n",
    "# b) try-catch\n",
    "# c) do-except\n",
    "# d) do-catch\n",
    "\n",
    "---\n",
    "\n",
    "## Practice Questions\n",
    "\n",
    "### Question 1\n",
    "# Write a Python program to check if a number is even or odd.\n",
    "\n",
    "number = int(input(\"Enter a number: \"))\n",
    "if number % 2 == 0:\n",
    "    print(f\"{number} is even.\")\n",
    "else:\n",
    "    print(f\"{number} is odd.\")\n",
    "\n",
    "### Question 2\n",
    "# Write a Python program to find the factorial of a given number using a loop.\n",
    "\n",
    "def factorial(n):\n",
    "    result = 1\n",
    "    for i in range(1, n + 1):\n",
    "        result *= i\n",
    "    return result\n",
    "\n",
    "number = int(input(\"Enter a number: \"))\n",
    "print(f\"Factorial of {number} is {factorial(number)}.\")\n",
    "\n",
    "### Question 3\n",
    "# Write a Python program to create a list of the first 10 natural numbers and then print each number.\n",
    "\n",
    "natural_numbers = list(range(1, 11))\n",
    "for number in natural_numbers:\n",
    "    print(number)\n",
    "\n",
    "### Question 4\n",
    "# Write a Python program to calculate the sum of all numbers in a list.\n",
    "\n",
    "numbers = [1, 2, 3, 4, 5]\n",
    "print(f\"Sum of the list is {sum(numbers)}.\")\n",
    "\n",
    "### Question 5\n",
    "# Write a Python program to reverse a string.\n",
    "\n",
    "string = input(\"Enter a string: \")\n",
    "reversed_string = string[::-1]\n",
    "print(f\"Reversed string is: {reversed_string}\")\n",
    "\n",
    "### Question 6\n",
    "# Write a Python program to find the largest number in a list.\n",
    "\n",
    "numbers = [1, 2, 3, 4, 5]\n",
    "print(f\"Largest number in the list is {max(numbers)}.\")\n",
    "\n",
    "### Question 7\n",
    "# Write a Python program to print the multiplication table of any number provided by the user.\n",
    "\n",
    "number = int(input(\"Enter a number: \"))\n",
    "for i in range(1, 11):\n",
    "    print(f\"{number} x {i} = {number * i}\")\n",
    "\n",
    "### Question 8\n",
    "# Write a Python program to count the number of vowels in a string.\n",
    "\n",
    "vowels = \"aeiouAEIOU\"\n",
    "string = input(\"Enter a string: \")\n",
    "count = sum(1 for char in string if char in vowels)\n",
    "print(f\"Number of vowels in the string is: {count}\")\n",
    "\n",
    "### Question 9\n",
    "# Write a Python program to convert a list of tuples into a dictionary.\n",
    "\n",
    "tuples = [(\"one\", 1), (\"two\", 2), (\"three\", 3)]\n",
    "dictionary = dict(tuples)\n",
    "print(f\"Converted dictionary: {dictionary}\")\n",
    "\n",
    "### Question 10\n",
    "# Write a Python program to check if a given string is a palindrome.\n",
    "\n",
    "string = input(\"Enter a string: \")\n",
    "is_palindrome = string == string[::-1]\n",
    "print(f\"The string is a palindrome: {is_palindrome}\")\n"
   ]
  },
  {
   "cell_type": "markdown",
   "id": "c715da1a",
   "metadata": {},
   "source": [
    "## Answers for Multiple-Choice Questions (MCQs)"
   ]
  },
  {
   "cell_type": "markdown",
   "id": "5969301e",
   "metadata": {},
   "source": [
    "Q1. Ans b.   float"
   ]
  },
  {
   "cell_type": "markdown",
   "id": "5722738d",
   "metadata": {},
   "source": [
    "Q2. Ans b.   print(\"Hello World\")"
   ]
  },
  {
   "cell_type": "markdown",
   "id": "1513b3b9",
   "metadata": {},
   "source": [
    "Q3. Ans c.   x=10"
   ]
  },
  {
   "cell_type": "markdown",
   "id": "4e648200",
   "metadata": {},
   "source": [
    "Q4. Ans b.   8"
   ]
  },
  {
   "cell_type": "markdown",
   "id": "94290825",
   "metadata": {},
   "source": [
    "Q5. Ans c.   Indentation"
   ]
  },
  {
   "cell_type": "markdown",
   "id": "1afde28c",
   "metadata": {},
   "source": [
    "Q6. Ans d.   #"
   ]
  },
  {
   "cell_type": "markdown",
   "id": "947e11a3",
   "metadata": {},
   "source": [
    "Q7. Ans a.   Hello World"
   ]
  },
  {
   "cell_type": "markdown",
   "id": "6da3f8c7",
   "metadata": {},
   "source": [
    "Q8. Ans a.   list = [1, 2, 3]"
   ]
  },
  {
   "cell_type": "markdown",
   "id": "ad397980",
   "metadata": {},
   "source": [
    "Q9. Ans b.    3"
   ]
  },
  {
   "cell_type": "markdown",
   "id": "5914e482",
   "metadata": {},
   "source": [
    "Q10. Ans c.   A tuple is immutable"
   ]
  },
  {
   "cell_type": "markdown",
   "id": "45132e5d",
   "metadata": {},
   "source": [
    "Q11. Ans a.   Greater"
   ]
  },
  {
   "cell_type": "markdown",
   "id": "6109548a",
   "metadata": {},
   "source": [
    "Q12. Ans c.   dict = {\"one\": 1, \"two\": 2, \"three\": 3}"
   ]
  },
  {
   "cell_type": "markdown",
   "id": "3800ba78",
   "metadata": {},
   "source": [
    "Q13. Ans b.   [2, 3]"
   ]
  },
  {
   "cell_type": "markdown",
   "id": "09e10dbe",
   "metadata": {},
   "source": [
    "Q14. Ans a.   append()"
   ]
  },
  {
   "cell_type": "markdown",
   "id": "d9f67022",
   "metadata": {},
   "source": [
    "Q15. Ans a.   try-except"
   ]
  },
  {
   "cell_type": "markdown",
   "id": "44738dcf",
   "metadata": {},
   "source": [
    "## Answers for Code Questions"
   ]
  },
  {
   "cell_type": "markdown",
   "id": "5727789e",
   "metadata": {},
   "source": [
    "Question 1\n",
    "Write a Python program to check if a number is even or odd."
   ]
  },
  {
   "cell_type": "code",
   "execution_count": 1,
   "id": "1677a21e",
   "metadata": {},
   "outputs": [
    {
     "name": "stdout",
     "output_type": "stream",
     "text": [
      "Enter a number: 5\n",
      "5 is odd.\n"
     ]
    }
   ],
   "source": [
    "number = int(input(\"Enter a number: \"))\n",
    "if number % 2 == 0: print(f\"{number} is even.\")\n",
    "else: print(f\"{number} is odd.\")"
   ]
  },
  {
   "cell_type": "markdown",
   "id": "32993245",
   "metadata": {},
   "source": [
    "Question 2\n",
    "Write a Python program to find the factorial of a given number using a loop."
   ]
  },
  {
   "cell_type": "code",
   "execution_count": 2,
   "id": "70a11c69",
   "metadata": {},
   "outputs": [
    {
     "name": "stdout",
     "output_type": "stream",
     "text": [
      "Enter a number: 5\n",
      "Factorial of 5 is 120.\n"
     ]
    }
   ],
   "source": [
    "#Done using Reccursive Function\n",
    "def factorial(n):\n",
    "    if n == 0 or n == 1:\n",
    "        return 1\n",
    "    else:\n",
    "        return n * factorial(n - 1)\n",
    "\n",
    "number = int(input(\"Enter a number: \"))\n",
    "print(f\"Factorial of {number} is {factorial(number)}.\")"
   ]
  },
  {
   "cell_type": "markdown",
   "id": "81e8c8b6",
   "metadata": {},
   "source": [
    "Question 3\n",
    "Write a Python program to create a list of the first 10 natural numbers and then print each number."
   ]
  },
  {
   "cell_type": "code",
   "execution_count": 4,
   "id": "ea3aee6e",
   "metadata": {},
   "outputs": [
    {
     "name": "stdout",
     "output_type": "stream",
     "text": [
      "1\n",
      "2\n",
      "3\n",
      "4\n",
      "5\n",
      "6\n",
      "7\n",
      "8\n",
      "9\n",
      "10\n"
     ]
    }
   ],
   "source": [
    "natural_numbers = list(range(1, 11))\n",
    "for number in natural_numbers:\n",
    "    print(number)"
   ]
  },
  {
   "cell_type": "markdown",
   "id": "08044be9",
   "metadata": {},
   "source": [
    "Question 4\n",
    "#Write a Python program to calculate the sum of all numbers in a list."
   ]
  },
  {
   "cell_type": "code",
   "execution_count": 5,
   "id": "962aaf1f",
   "metadata": {},
   "outputs": [
    {
     "name": "stdout",
     "output_type": "stream",
     "text": [
      "Sum of the list is 15.\n"
     ]
    }
   ],
   "source": [
    "from functools import reduce\n",
    "\n",
    "numbers = [1, 2, 3, 4, 5]\n",
    "sum_of_numbers = reduce(lambda x, y: x + y, numbers)\n",
    "print(f\"Sum of the list is {sum_of_numbers}.\")\n"
   ]
  },
  {
   "cell_type": "markdown",
   "id": "b784908d",
   "metadata": {},
   "source": [
    "Question 5\n",
    "Write a Python program to reverse a string."
   ]
  },
  {
   "cell_type": "code",
   "execution_count": 6,
   "id": "d92877cb",
   "metadata": {},
   "outputs": [
    {
     "name": "stdout",
     "output_type": "stream",
     "text": [
      "Enter a string: abcd\n",
      "Reversed string is: dcba\n"
     ]
    }
   ],
   "source": [
    "string = input(\"Enter a string: \")\n",
    "reversed_string = ''.join(reversed(string))\n",
    "print(f\"Reversed string is: {reversed_string}\")\n"
   ]
  },
  {
   "cell_type": "markdown",
   "id": "fd3fa343",
   "metadata": {},
   "source": [
    "Question 6\n",
    "Write a Python program to find the largest number in a list."
   ]
  },
  {
   "cell_type": "code",
   "execution_count": 8,
   "id": "da6b36c5",
   "metadata": {},
   "outputs": [
    {
     "name": "stdout",
     "output_type": "stream",
     "text": [
      "Largest number in the list is 5\n"
     ]
    }
   ],
   "source": [
    "numbers = [1, 2, 3, 4, 5]\n",
    "l = max(numbers)\n",
    "print(f\"Largest number in the list is\",l)"
   ]
  },
  {
   "cell_type": "markdown",
   "id": "deee57c9",
   "metadata": {},
   "source": [
    "Question 7\n",
    "Write a Python program to print the multiplication table of any number provided by the user."
   ]
  },
  {
   "cell_type": "code",
   "execution_count": 9,
   "id": "48a8dbe1",
   "metadata": {},
   "outputs": [
    {
     "name": "stdout",
     "output_type": "stream",
     "text": [
      "Enter a number: 7\n",
      "7 x 1 = 7\n",
      "7 x 2 = 14\n",
      "7 x 3 = 21\n",
      "7 x 4 = 28\n",
      "7 x 5 = 35\n",
      "7 x 6 = 42\n",
      "7 x 7 = 49\n",
      "7 x 8 = 56\n",
      "7 x 9 = 63\n",
      "7 x 10 = 70\n"
     ]
    }
   ],
   "source": [
    "number = int(input(\"Enter a number: \"))\n",
    "i = 1\n",
    "while i <= 10:\n",
    "    print(f\"{number} x {i} = {number * i}\")\n",
    "    i += 1"
   ]
  },
  {
   "cell_type": "markdown",
   "id": "891dc000",
   "metadata": {},
   "source": [
    "Question 8\n",
    "Write a Python program to count the number of vowels in a string."
   ]
  },
  {
   "cell_type": "code",
   "execution_count": 12,
   "id": "3c72b719",
   "metadata": {},
   "outputs": [
    {
     "name": "stdout",
     "output_type": "stream",
     "text": [
      "Enter a string: Akshay\n",
      "Number of vowels in the string is: 2\n"
     ]
    }
   ],
   "source": [
    "vowels = \"aeiouAEIOU\"\n",
    "string = input(\"Enter a string: \")\n",
    "count = 0\n",
    "\n",
    "for char in string:\n",
    "    if char in vowels:\n",
    "        count += 1\n",
    "\n",
    "print(f\"Number of vowels in the string is: {count}\")\n"
   ]
  },
  {
   "cell_type": "markdown",
   "id": "83214b22",
   "metadata": {},
   "source": [
    "Question 9\n",
    "Write a Python program to convert a list of tuples into a dictionary."
   ]
  },
  {
   "cell_type": "code",
   "execution_count": 10,
   "id": "b1fb8d7f",
   "metadata": {},
   "outputs": [
    {
     "name": "stdout",
     "output_type": "stream",
     "text": [
      "Converted dictionary: {'one': 1, 'two': 2, 'three': 3}\n"
     ]
    }
   ],
   "source": [
    "tuples = [(\"one\", 1), (\"two\", 2), (\"three\", 3)]\n",
    "dictionary = {key: value for key, value in tuples}\n",
    "print(f\"Converted dictionary: {dictionary}\")"
   ]
  },
  {
   "cell_type": "markdown",
   "id": "a35a0983",
   "metadata": {},
   "source": [
    "Question 10\n",
    "Write a Python program to check if a given string is a palindrome."
   ]
  },
  {
   "cell_type": "code",
   "execution_count": 11,
   "id": "a1047be0",
   "metadata": {},
   "outputs": [
    {
     "name": "stdout",
     "output_type": "stream",
     "text": [
      "Enter a string: 12321\n",
      "The string is a palindrome: True\n"
     ]
    }
   ],
   "source": [
    "def is_palindrome(string):\n",
    "    length = len(string)\n",
    "    for i in range(length // 2):\n",
    "        if string[i] != string[length - i - 1]:\n",
    "            return False\n",
    "    return True\n",
    "\n",
    "string = input(\"Enter a string: \")\n",
    "print(f\"The string is a palindrome: {is_palindrome(string)}\")\n"
   ]
  }
 ],
 "metadata": {
  "kernelspec": {
   "display_name": "Python 3 (ipykernel)",
   "language": "python",
   "name": "python3"
  },
  "language_info": {
   "codemirror_mode": {
    "name": "ipython",
    "version": 3
   },
   "file_extension": ".py",
   "mimetype": "text/x-python",
   "name": "python",
   "nbconvert_exporter": "python",
   "pygments_lexer": "ipython3",
   "version": "3.11.5"
  },
  "widgets": {
   "application/vnd.jupyter.widget-state+json": {
    "state": {},
    "version_major": 2,
    "version_minor": 0
   }
  }
 },
 "nbformat": 4,
 "nbformat_minor": 5
}
