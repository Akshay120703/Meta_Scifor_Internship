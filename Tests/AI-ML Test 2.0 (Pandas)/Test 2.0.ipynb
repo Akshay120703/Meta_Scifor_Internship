{
 "cells": [
  {
   "cell_type": "markdown",
   "id": "04089893",
   "metadata": {},
   "source": [
    "# AI-ML Test 2.0 (Pandas)"
   ]
  },
  {
   "cell_type": "markdown",
   "id": "25ab4d20",
   "metadata": {},
   "source": [
    "Name:- Akshay Pophali\n",
    "\n",
    "Roll No:- MST02-0054"
   ]
  },
  {
   "cell_type": "markdown",
   "id": "115bc67a",
   "metadata": {},
   "source": [
    "## Task 1: Basic Python Programming (20 Marks)"
   ]
  },
  {
   "cell_type": "markdown",
   "id": "a5ba2fc4",
   "metadata": {},
   "source": [
    "1. Write a function `fibonacci(n)` that generates the first `n` numbers in the Fibonacci sequence and returns the Fibonacci sequence"
   ]
  },
  {
   "cell_type": "code",
   "execution_count": 2,
   "id": "9f13d706",
   "metadata": {},
   "outputs": [
    {
     "name": "stdout",
     "output_type": "stream",
     "text": [
      "Enter the Number: 10\n",
      "[0, 1, 1, 2, 3, 5, 8, 13, 21, 34]\n"
     ]
    }
   ],
   "source": [
    "def fibonacci(n):\n",
    "    # Initialize the first two numbers in the sequence\n",
    "    fib_sequence = [0, 1]\n",
    "    \n",
    "    # Generate the sequence up to the nth number\n",
    "    for i in range(2, n):\n",
    "        next_number = fib_sequence[-1] + fib_sequence[-2]\n",
    "        fib_sequence.append(next_number)\n",
    "    \n",
    "    return fib_sequence[:n]\n",
    "\n",
    "# Test the function\n",
    "ab = int(input(\"Enter the Number: \"))\n",
    "print(fibonacci(ab))\n"
   ]
  },
  {
   "cell_type": "markdown",
   "id": "c4ed6993",
   "metadata": {},
   "source": [
    "2. Write a function `is_prime(num)` that checks if a given number is a prime number. Return `True` if the number is Prime else return false."
   ]
  },
  {
   "cell_type": "code",
   "execution_count": 23,
   "id": "fec528f8",
   "metadata": {},
   "outputs": [
    {
     "name": "stdout",
     "output_type": "stream",
     "text": [
      "Enter the Number: 50\n",
      "Number is Not Prime!\n"
     ]
    }
   ],
   "source": [
    "def is_prime(num):\n",
    "    # Handle edge cases\n",
    "    if num <= 1:\n",
    "        return False\n",
    "    if num <= 3:\n",
    "        return True\n",
    "    if num % 2 == 0 or num % 3 == 0:\n",
    "        return False\n",
    "    \n",
    "    # Check for factors up to the square root of the number\n",
    "    i = 5\n",
    "    while i * i <= num:\n",
    "        if num % i == 0 or num % (i + 2) == 0:\n",
    "            return False\n",
    "        i += 6\n",
    "    \n",
    "    return True\n",
    "\n",
    "# Test the function\n",
    "exam = int(input(\"Enter the Number: \"))\n",
    "if is_prime(exam)==True:\n",
    "    print(\"Number is Prime!\")\n",
    "else:\n",
    "    print(\"Number is Not Prime!\")\n"
   ]
  },
  {
   "cell_type": "markdown",
   "id": "254a8a9e",
   "metadata": {},
   "source": [
    "## Task 2: Data Manipulation with Pandas (30 Marks)"
   ]
  },
  {
   "cell_type": "code",
   "execution_count": 1,
   "id": "0ab09a4c",
   "metadata": {},
   "outputs": [],
   "source": [
    "import pandas as pd\n",
    "\n",
    "# Given data\n",
    "data = {\n",
    "    'Date': ['2024-01-01', '2024-01-02', '2024-01-03', '2024-01-04', '2024-01-05'],\n",
    "    'Sales': [200, 220, 210, 215, 225],\n",
    "    'Region': ['North', 'South', 'East', 'West', 'North'],\n",
    "    'Manager': ['John', 'Jane', 'Joe', 'Jake', 'John']\n",
    "}\n",
    "\n",
    "# Load the dataset into a pandas DataFrame\n",
    "df = pd.DataFrame(data)\n"
   ]
  },
  {
   "cell_type": "code",
   "execution_count": 2,
   "id": "974a1c14",
   "metadata": {},
   "outputs": [
    {
     "name": "stdout",
     "output_type": "stream",
     "text": [
      "         Date  Sales Region Manager\n",
      "0  2024-01-01    200  North    John\n",
      "1  2024-01-02    220  South    Jane\n",
      "2  2024-01-03    210   East     Joe\n",
      "3  2024-01-04    215   West    Jake\n",
      "4  2024-01-05    225  North    John\n"
     ]
    }
   ],
   "source": [
    "# 1. Display the first 5 rows\n",
    "print(df.head())"
   ]
  },
  {
   "cell_type": "code",
   "execution_count": 3,
   "id": "358b3036",
   "metadata": {},
   "outputs": [
    {
     "name": "stdout",
     "output_type": "stream",
     "text": [
      "         Date  Sales Region Manager  Profit\n",
      "0  2024-01-01    200  North    John    20.0\n",
      "1  2024-01-02    220  South    Jane    22.0\n",
      "2  2024-01-03    210   East     Joe    21.0\n",
      "3  2024-01-04    215   West    Jake    21.5\n",
      "4  2024-01-05    225  North    John    22.5\n"
     ]
    }
   ],
   "source": [
    "# 2. Add a new column `Profit` which is 10% of the `Sales` column\n",
    "df['Profit'] = df['Sales'] * 0.10\n",
    "print(df)"
   ]
  },
  {
   "cell_type": "code",
   "execution_count": 4,
   "id": "3e1fab10",
   "metadata": {},
   "outputs": [
    {
     "name": "stdout",
     "output_type": "stream",
     "text": [
      "Region\n",
      "East     210\n",
      "North    425\n",
      "South    220\n",
      "West     215\n",
      "Name: Sales, dtype: int64\n"
     ]
    }
   ],
   "source": [
    "# 3. Group the data by `Region` and calculate the total sales for each region\n",
    "total_sales_by_region = df.groupby('Region')['Sales'].sum()\n",
    "print(total_sales_by_region)"
   ]
  },
  {
   "cell_type": "code",
   "execution_count": 5,
   "id": "27852e89",
   "metadata": {},
   "outputs": [
    {
     "name": "stdout",
     "output_type": "stream",
     "text": [
      "South\n"
     ]
    }
   ],
   "source": [
    "# 4. Find the region with the highest average sales\n",
    "average_sales_by_region = df.groupby('Region')['Sales'].mean()\n",
    "region_with_highest_avg_sales = average_sales_by_region.idxmax()\n",
    "print(region_with_highest_avg_sales)"
   ]
  },
  {
   "cell_type": "markdown",
   "id": "b58a49c1",
   "metadata": {},
   "source": [
    "## Task 3: Data Loading and Manipulation from GitHub (10 Marks)"
   ]
  },
  {
   "cell_type": "code",
   "execution_count": 29,
   "id": "6f740507",
   "metadata": {},
   "outputs": [],
   "source": [
    "# 1. Load a CSV file from a GitHub repository into a pandas DataFrame\n",
    "url = \"https://raw.githubusercontent.com/datasciencedojo/datasets/master/titanic.csv\"\n",
    "titanic_df = pd.read_csv(url)"
   ]
  },
  {
   "cell_type": "code",
   "execution_count": 30,
   "id": "6efd9585",
   "metadata": {
    "scrolled": true
   },
   "outputs": [
    {
     "name": "stdout",
     "output_type": "stream",
     "text": [
      "   PassengerId  Survived  Pclass  \\\n",
      "0            1         0       3   \n",
      "1            2         1       1   \n",
      "2            3         1       3   \n",
      "3            4         1       1   \n",
      "4            5         0       3   \n",
      "\n",
      "                                                Name     Sex   Age  SibSp  \\\n",
      "0                            Braund, Mr. Owen Harris    male  22.0      1   \n",
      "1  Cumings, Mrs. John Bradley (Florence Briggs Th...  female  38.0      1   \n",
      "2                             Heikkinen, Miss. Laina  female  26.0      0   \n",
      "3       Futrelle, Mrs. Jacques Heath (Lily May Peel)  female  35.0      1   \n",
      "4                           Allen, Mr. William Henry    male  35.0      0   \n",
      "\n",
      "   Parch            Ticket     Fare Cabin Embarked  \n",
      "0      0         A/5 21171   7.2500   NaN        S  \n",
      "1      0          PC 17599  71.2833   C85        C  \n",
      "2      0  STON/O2. 3101282   7.9250   NaN        S  \n",
      "3      0            113803  53.1000  C123        S  \n",
      "4      0            373450   8.0500   NaN        S  \n"
     ]
    }
   ],
   "source": [
    "# Display the first 5 rows of the DataFrame\n",
    "print(titanic_df.head())"
   ]
  },
  {
   "cell_type": "code",
   "execution_count": 31,
   "id": "20f3aea9",
   "metadata": {},
   "outputs": [
    {
     "name": "stdout",
     "output_type": "stream",
     "text": [
      "       PassengerId    Survived      Pclass         Age       SibSp  \\\n",
      "count   891.000000  891.000000  891.000000  714.000000  891.000000   \n",
      "mean    446.000000    0.383838    2.308642   29.699118    0.523008   \n",
      "std     257.353842    0.486592    0.836071   14.526497    1.102743   \n",
      "min       1.000000    0.000000    1.000000    0.420000    0.000000   \n",
      "25%     223.500000    0.000000    2.000000   20.125000    0.000000   \n",
      "50%     446.000000    0.000000    3.000000   28.000000    0.000000   \n",
      "75%     668.500000    1.000000    3.000000   38.000000    1.000000   \n",
      "max     891.000000    1.000000    3.000000   80.000000    8.000000   \n",
      "\n",
      "            Parch        Fare  \n",
      "count  891.000000  891.000000  \n",
      "mean     0.381594   32.204208  \n",
      "std      0.806057   49.693429  \n",
      "min      0.000000    0.000000  \n",
      "25%      0.000000    7.910400  \n",
      "50%      0.000000   14.454200  \n",
      "75%      0.000000   31.000000  \n",
      "max      6.000000  512.329200  \n"
     ]
    }
   ],
   "source": [
    "# 2. Display summary statistics of the DataFrame\n",
    "print(titanic_df.describe())"
   ]
  },
  {
   "cell_type": "code",
   "execution_count": 32,
   "id": "7a1f9fd3",
   "metadata": {},
   "outputs": [
    {
     "name": "stdout",
     "output_type": "stream",
     "text": [
      "PassengerId      0\n",
      "Survived         0\n",
      "Pclass           0\n",
      "Name             0\n",
      "Sex              0\n",
      "Age            177\n",
      "SibSp            0\n",
      "Parch            0\n",
      "Ticket           0\n",
      "Fare             0\n",
      "Cabin          687\n",
      "Embarked         2\n",
      "dtype: int64\n"
     ]
    }
   ],
   "source": [
    "# 3. Check for null values in the DataFrame and display the count of null values in each column\n",
    "print(titanic_df.isnull().sum())"
   ]
  },
  {
   "cell_type": "code",
   "execution_count": 33,
   "id": "6ba3125e",
   "metadata": {
    "scrolled": true
   },
   "outputs": [],
   "source": [
    "# 4. Fill the null values in the 'Age' column with the mean age\n",
    "titanic_df['Age'].fillna(titanic_df['Age'].mean(), inplace=True)"
   ]
  },
  {
   "cell_type": "code",
   "execution_count": 34,
   "id": "569ca56b",
   "metadata": {},
   "outputs": [],
   "source": [
    "# 5. Drop the rows where 'Embarked' is null\n",
    "titanic_df.dropna(subset=['Embarked'], inplace=True)"
   ]
  },
  {
   "cell_type": "code",
   "execution_count": 35,
   "id": "bebc3b56",
   "metadata": {},
   "outputs": [],
   "source": [
    "# 6. Create a new column 'FamilySize' which is the sum of 'SibSp' and 'Parch'\n",
    "titanic_df['FamilySize'] = titanic_df['SibSp'] + titanic_df['Parch']"
   ]
  },
  {
   "cell_type": "code",
   "execution_count": 36,
   "id": "bc46e885",
   "metadata": {},
   "outputs": [],
   "source": [
    "# 7. Convert the 'Sex' column to numerical values (male: 0, female: 1)\n",
    "titanic_df['Sex'] = titanic_df['Sex'].map({'male': 0, 'female': 1})"
   ]
  },
  {
   "cell_type": "code",
   "execution_count": 37,
   "id": "ee5dd2fa",
   "metadata": {},
   "outputs": [
    {
     "name": "stdout",
     "output_type": "stream",
     "text": [
      "Pclass\n",
      "1    84.193516\n",
      "2    20.662183\n",
      "3    13.675550\n",
      "Name: Fare, dtype: float64\n"
     ]
    }
   ],
   "source": [
    "# 8. Group the data by 'Pclass' and calculate the average fare for each class\n",
    "average_fare_by_pclass = titanic_df.groupby('Pclass')['Fare'].mean()\n",
    "print(average_fare_by_pclass)"
   ]
  },
  {
   "cell_type": "code",
   "execution_count": 38,
   "id": "e4293095",
   "metadata": {},
   "outputs": [
    {
     "name": "stdout",
     "output_type": "stream",
     "text": [
      "S\n"
     ]
    }
   ],
   "source": [
    "# 9. Find the most common port of embarkation ('Embarked' column)\n",
    "most_common_port = titanic_df['Embarked'].mode()[0]\n",
    "print(most_common_port)"
   ]
  },
  {
   "cell_type": "code",
   "execution_count": 39,
   "id": "9fa8db2e",
   "metadata": {},
   "outputs": [
    {
     "name": "stdout",
     "output_type": "stream",
     "text": [
      "Pclass         1         2         3\n",
      "Sex                                 \n",
      "0       0.368852  0.157407  0.135447\n",
      "1       0.967391  0.921053  0.500000\n"
     ]
    }
   ],
   "source": [
    "# 10. Create a pivot table that shows the survival rate ('Survived') for each combination of 'Sex' and 'Pclass'\n",
    "pivot_table = titanic_df.pivot_table(values='Survived', index='Sex', columns='Pclass', aggfunc='mean')\n",
    "print(pivot_table)"
   ]
  }
 ],
 "metadata": {
  "kernelspec": {
   "display_name": "Python 3 (ipykernel)",
   "language": "python",
   "name": "python3"
  },
  "language_info": {
   "codemirror_mode": {
    "name": "ipython",
    "version": 3
   },
   "file_extension": ".py",
   "mimetype": "text/x-python",
   "name": "python",
   "nbconvert_exporter": "python",
   "pygments_lexer": "ipython3",
   "version": "3.11.5"
  }
 },
 "nbformat": 4,
 "nbformat_minor": 5
}
