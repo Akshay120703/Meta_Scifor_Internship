{
 "cells": [
  {
   "cell_type": "markdown",
   "id": "ac6c62cf",
   "metadata": {},
   "source": [
    "1) Write a Python program to print 'Hello, World!'."
   ]
  },
  {
   "cell_type": "code",
   "execution_count": 1,
   "id": "d781cce3",
   "metadata": {},
   "outputs": [
    {
     "name": "stdout",
     "output_type": "stream",
     "text": [
      "Hello World\n"
     ]
    }
   ],
   "source": [
    "print(\"Hello World\")"
   ]
  },
  {
   "cell_type": "markdown",
   "id": "03a51ff6",
   "metadata": {},
   "source": [
    "2. Write a Python program to add two numbers."
   ]
  },
  {
   "cell_type": "code",
   "execution_count": 3,
   "id": "e3078d85",
   "metadata": {},
   "outputs": [
    {
     "name": "stdout",
     "output_type": "stream",
     "text": [
      "Enter First Number: 5\n",
      "Enter Second Number: 7\n",
      "Sum =  12\n"
     ]
    }
   ],
   "source": [
    "def sum_of_two_numbers(a, b):\n",
    "    return a + b\n",
    "\n",
    "# Test case\n",
    "x = int(input(\"Enter First Number: \"))\n",
    "y = int(input(\"Enter Second Number: \"))\n",
    "print(\"Sum = \", sum_of_two_numbers(x, y))  # Output: 8"
   ]
  },
  {
   "cell_type": "markdown",
   "id": "fad5e113",
   "metadata": {},
   "source": [
    "3. Write a Python program to find the square root of a number."
   ]
  },
  {
   "cell_type": "code",
   "execution_count": 5,
   "id": "8e76c126",
   "metadata": {},
   "outputs": [
    {
     "name": "stdout",
     "output_type": "stream",
     "text": [
      "Enter the number: 4\n",
      "Square Root =  2.0\n"
     ]
    }
   ],
   "source": [
    "import numpy as np\n",
    "\n",
    "a = int(input(\"Enter the number: \"))\n",
    "b = np.sqrt(a)\n",
    "print(\"Square Root = \", b)"
   ]
  },
  {
   "cell_type": "markdown",
   "id": "cbd66154",
   "metadata": {},
   "source": [
    "4. Write a Python program to calculate the area of a triangle."
   ]
  },
  {
   "cell_type": "code",
   "execution_count": 7,
   "id": "1317e1be",
   "metadata": {
    "scrolled": true
   },
   "outputs": [
    {
     "name": "stdout",
     "output_type": "stream",
     "text": [
      "Enter the base side of the triange: 5\n",
      "Enter the height of the triange: 4\n",
      "Area of the triangle: 10.0\n"
     ]
    }
   ],
   "source": [
    "# Cell 4\n",
    "def calculate_triangle_area(base, height):\n",
    "    return 0.5 * base * height\n",
    "\n",
    "# Example usage:\n",
    "base = int(input(\"Enter the base side of the triange: \"))\n",
    "height = int(input(\"Enter the height of the triange: \"))\n",
    "area = calculate_triangle_area(base, height)\n",
    "print(\"Area of the triangle:\", area)\n"
   ]
  },
  {
   "cell_type": "markdown",
   "id": "51465e75",
   "metadata": {},
   "source": [
    "5. Write a Python program to swap two variables."
   ]
  },
  {
   "cell_type": "code",
   "execution_count": 10,
   "id": "b1f727e7",
   "metadata": {},
   "outputs": [
    {
     "name": "stdout",
     "output_type": "stream",
     "text": [
      "Enter the value of x: 1\n",
      "Enter the value of y: 2\n",
      "x = 2 ; y = 1\n"
     ]
    }
   ],
   "source": [
    "# Cell 5\n",
    "def swap_variables(a, b):\n",
    "    return b, a\n",
    "\n",
    "# Example usage:\n",
    "x = int(input(\"Enter the value of x: \"))\n",
    "y = int(input(\"Enter the value of y: \"))\n",
    "x, y = swap_variables(x, y)\n",
    "print(\"x =\", x, \"; y =\", y)\n"
   ]
  },
  {
   "cell_type": "markdown",
   "id": "40834959",
   "metadata": {},
   "source": [
    "6. Write a Python program to generate a random number."
   ]
  },
  {
   "cell_type": "code",
   "execution_count": 34,
   "id": "c076ccbe",
   "metadata": {},
   "outputs": [
    {
     "name": "stdout",
     "output_type": "stream",
     "text": [
      "Random number: 52\n"
     ]
    }
   ],
   "source": [
    "# Cell 6\n",
    "import random\n",
    "\n",
    "def generate_random_number(start, end):\n",
    "    return random.randint(start, end)\n",
    "\n",
    "# Example usage:\n",
    "random_number = generate_random_number(1, 100)\n",
    "print(\"Random number:\", random_number)\n"
   ]
  },
  {
   "cell_type": "code",
   "execution_count": null,
   "id": "2a522404",
   "metadata": {},
   "outputs": [],
   "source": []
  },
  {
   "cell_type": "code",
   "execution_count": null,
   "id": "0bb881b3",
   "metadata": {},
   "outputs": [],
   "source": []
  }
 ],
 "metadata": {
  "kernelspec": {
   "display_name": "Python 3 (ipykernel)",
   "language": "python",
   "name": "python3"
  },
  "language_info": {
   "codemirror_mode": {
    "name": "ipython",
    "version": 3
   },
   "file_extension": ".py",
   "mimetype": "text/x-python",
   "name": "python",
   "nbconvert_exporter": "python",
   "pygments_lexer": "ipython3",
   "version": "3.11.5"
  }
 },
 "nbformat": 4,
 "nbformat_minor": 5
}
